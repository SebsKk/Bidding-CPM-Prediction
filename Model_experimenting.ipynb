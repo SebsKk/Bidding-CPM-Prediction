{
 "cells": [
  {
   "cell_type": "code",
   "execution_count": 18,
   "metadata": {},
   "outputs": [],
   "source": [
    "import pandas as pd\n",
    "import numpy as np\n",
    "\n",
    "df = pd.read_csv('C:/Users/kaczm/project_git/Bidding-CPM-Prediction/dataset/cpm_prediction.csv')"
   ]
  },
  {
   "cell_type": "code",
   "execution_count": 20,
   "metadata": {},
   "outputs": [],
   "source": [
    "# first let's start off with XGBoost, then let's try RF\n",
    "\n",
    "from sklearn.model_selection import train_test_split\n",
    "\n",
    "from xgboost import XGBRegressor\n",
    "from sklearn.metrics import mean_squared_error, mean_absolute_error\n",
    "import numpy as np\n",
    "\n",
    "y = df['CPM']\n",
    "X = df.drop(columns = ['CPM'])\n",
    "\n",
    "X_train, X_test, y_train, y_test = train_test_split(X, y, test_size = 0.2, random_state=42)\n",
    "\n",
    "def XGBoost_model(X_train, y_train, X_test, y_test):\n",
    "    model = XGBRegressor(objective='reg:squarederror', random_state=42) # I will be tuning the parameters on the go\n",
    "    model.fit(X_train, y_train)\n",
    "\n",
    "    # Predicting the Test set results\n",
    "    y_pred = model.predict(X_test)\n",
    "    \n",
    "    # Printing metrics\n",
    "    rmse = np.sqrt(mean_squared_error(y_test, y_pred))\n",
    "    mae = mean_absolute_error(y_test, y_pred)\n",
    "    print(f'Root Mean Squared Error: {rmse}')\n",
    "    print(f'Mean Absolute Error: {mae}')\n",
    "    \n",
    "    return model"
   ]
  },
  {
   "cell_type": "code",
   "execution_count": 21,
   "metadata": {},
   "outputs": [
    {
     "name": "stdout",
     "output_type": "stream",
     "text": [
      "Root Mean Squared Error: 143.24679325604657\n",
      "Mean Absolute Error: 7.046851970078372\n"
     ]
    }
   ],
   "source": [
    "xgb_model = XGBoost_model(X_train, y_train, X_test, y_test)"
   ]
  },
  {
   "cell_type": "code",
   "execution_count": 22,
   "metadata": {},
   "outputs": [
    {
     "name": "stdout",
     "output_type": "stream",
     "text": [
      "site_id : 0.08532096\n",
      "ad_type_id : 0.013586768\n",
      "geo_id : 0.0024225444\n",
      "device_category_id : 0.018806277\n",
      "advertiser_id : 9.264672e-05\n",
      "os_id : 0.0021213458\n",
      "integration_type_id : 0.0\n",
      "monetization_channel_id : 4.681785e-05\n",
      "ad_unit_id : 0.00243911\n",
      "total_impressions : 0.1638682\n",
      "total_revenue : 0.56109905\n",
      "viewable_impressions : 0.0019154042\n",
      "measurable_impressions : 0.13542004\n",
      "revenue_share_percent : 0.0\n",
      "measurable_to_total_imps : 0.00042235214\n",
      "viewable_to_total_imps : 0.01166986\n",
      "actual_revenue : 0.0\n",
      "week : 0.0007685777\n",
      "month : 0.0\n"
     ]
    },
    {
     "data": {
      "image/png": "[encoded data removed]",
      "text/plain": [
       "<Figure size 640x480 with 1 Axes>"
      ]
     },
     "metadata": {},
     "output_type": "display_data"
    }
   ],
   "source": [
    "# lets check out this model\n",
    "import matplotlib.pyplot as plt \n",
    "\n",
    "# Feature importance\n",
    "importance = xgb_model.feature_importances_\n",
    "for i,j in enumerate(importance):\n",
    "    print(X_train.columns[i],\":\", j)\n",
    "\n",
    "# plot feature importance\n",
    "plt.bar([x for x in range(len(importance))], importance)\n",
    "plt.show()"
   ]
  },
  {
   "cell_type": "code",
   "execution_count": 23,
   "metadata": {},
   "outputs": [
    {
     "name": "stdout",
     "output_type": "stream",
     "text": [
      "CPM                         1.000000\n",
      "total_revenue               0.084538\n",
      "actual_revenue              0.084538\n",
      "ad_type_id                  0.061719\n",
      "geo_id                      0.056828\n",
      "viewable_to_total_imps      0.040822\n",
      "ad_unit_id                  0.027816\n",
      "viewable_impressions        0.009622\n",
      "total_impressions           0.000674\n",
      "measurable_impressions      0.000615\n",
      "measurable_to_total_imps   -0.003742\n",
      "week                       -0.006392\n",
      "site_id                    -0.009248\n",
      "advertiser_id              -0.016978\n",
      "os_id                      -0.023717\n",
      "device_category_id         -0.024757\n",
      "monetization_channel_id    -0.028133\n",
      "integration_type_id              NaN\n",
      "revenue_share_percent            NaN\n",
      "month                            NaN\n",
      "Name: CPM, dtype: float64\n"
     ]
    }
   ],
   "source": [
    "# total revenue has a very strong effect on the model - let's see correlations\n",
    "\n",
    "\n",
    "correlations = df.corr()['CPM'].sort_values(ascending=False)\n",
    "print(correlations)"
   ]
  },
  {
   "cell_type": "code",
   "execution_count": 24,
   "metadata": {},
   "outputs": [
    {
     "name": "stdout",
     "output_type": "stream",
     "text": [
      "Root Mean Squared Error: 420.80157725409407\n",
      "Mean Absolute Error: 5.23230364917595\n"
     ]
    }
   ],
   "source": [
    "# now let's do some random forest\n",
    "\n",
    "from sklearn.ensemble import RandomForestRegressor\n",
    "\n",
    "def RandomForest_model(X_train, y_train, X_test, y_test, n_estimators=100, random_state=42):\n",
    "    # Initialize the model\n",
    "    model = RandomForestRegressor(n_estimators=n_estimators, random_state=random_state)\n",
    "    \n",
    "    # fit the model\n",
    "    model.fit(X_train, y_train)\n",
    "\n",
    "    # predicting the Test set results\n",
    "    y_pred = model.predict(X_test)\n",
    "    \n",
    "    # printing metrics\n",
    "    rmse = np.sqrt(mean_squared_error(y_test, y_pred))\n",
    "    mae = mean_absolute_error(y_test, y_pred)\n",
    "    print(f'Root Mean Squared Error: {rmse}')\n",
    "    print(f'Mean Absolute Error: {mae}')\n",
    "    \n",
    "    return model\n",
    "\n",
    "# Use the function to train the model and get predictions\n",
    "rf_model = RandomForest_model(X_train, y_train, X_test, y_test)\n",
    "\n",
    "# very interesting - seems like this model generalizes better, but occassionaly makes bigger mistakes than XGBoost "
   ]
  },
  {
   "cell_type": "code",
   "execution_count": 25,
   "metadata": {},
   "outputs": [
    {
     "name": "stdout",
     "output_type": "stream",
     "text": [
      "        site_id  ad_type_id  geo_id  device_category_id  advertiser_id  os_id  \\\n",
      "193526      342          10     143                   1             79     56   \n",
      "124876      349          10     187                   1             79     56   \n",
      "189730      346          10      11                   3             79     55   \n",
      "210465      342          10      33                   1             79     56   \n",
      "21705       346          10     129                   1             79     56   \n",
      "159507      351          10     187                   2             79     58   \n",
      "77435       346          10     168                   3             79     55   \n",
      "220119      350          10      33                   1             79     56   \n",
      "44862       350          10      33                   3             79     59   \n",
      "160595      349          10     187                   2             79     60   \n",
      "\n",
      "        integration_type_id  monetization_channel_id  ad_unit_id  \\\n",
      "193526                    1                       19        5050   \n",
      "124876                    1                       19        5160   \n",
      "189730                    1                       19        5112   \n",
      "210465                    1                       19        5050   \n",
      "21705                     1                       19        5111   \n",
      "159507                    1                       19        5178   \n",
      "77435                     1                       19        5117   \n",
      "220119                    1                       19        5168   \n",
      "44862                     1                       19        5168   \n",
      "160595                    1                       19        5158   \n",
      "\n",
      "        total_impressions  ...  measurable_impressions  revenue_share_percent  \\\n",
      "193526           0.000415  ...                0.000291                      1   \n",
      "124876           0.001799  ...                0.001600                      1   \n",
      "189730           0.000138  ...                0.000145                      1   \n",
      "210465           0.005536  ...                0.005235                      1   \n",
      "21705            0.000415  ...                0.000436                      1   \n",
      "159507           0.000277  ...                0.000291                      1   \n",
      "77435            0.000277  ...                0.000291                      1   \n",
      "220119           0.000000  ...                0.000000                      1   \n",
      "44862            0.000277  ...                0.000291                      1   \n",
      "160595           0.000415  ...                0.000291                      1   \n",
      "\n",
      "        measurable_to_total_imps  viewable_to_total_imps  actual_revenue  \\\n",
      "193526                  0.750000                0.750000          5.2742   \n",
      "124876                  0.857143                0.571429         10.9380   \n",
      "189730                  1.000000                0.500000          2.1932   \n",
      "210465                  0.902439                0.756098         15.4112   \n",
      "21705                   1.000000                0.750000          2.4132   \n",
      "159507                  1.000000                0.333333          0.9956   \n",
      "77435                   1.000000                0.333333          1.3082   \n",
      "220119                  1.000000                1.000000          1.8018   \n",
      "44862                   1.000000                0.333333          1.3658   \n",
      "160595                  0.750000                0.250000          1.4896   \n",
      "\n",
      "        week  month        Actual      Predicted         Error  \n",
      "193526    24      6  87903.333333  180590.288333  92686.955000  \n",
      "124876    25      6  45575.000000   30085.719813  15489.280187  \n",
      "189730    24      6  54830.000000   69488.916667  14658.916667  \n",
      "210465    23      6  20825.945946   10660.908977  10165.036969  \n",
      "21705     26      6  30165.000000   21798.568598   8366.431402  \n",
      "159507    24      6  16593.333333   23318.550000   6725.216667  \n",
      "77435     25      6  21803.333333   28102.200000   6298.866667  \n",
      "220119    23      6  90090.000000   84057.200000   6032.800000  \n",
      "44862     26      6  22763.333333   28350.916667   5587.583333  \n",
      "160595    24      6  24826.666667   30266.100000   5439.433333  \n",
      "\n",
      "[10 rows x 22 columns]\n"
     ]
    }
   ],
   "source": [
    "# I want to investigate a little why this model makes those large mistakes\n",
    "\n",
    "def large_errors_rf(model, X_test, y_test):\n",
    "    y_pred = model.predict(X_test)\n",
    "\n",
    "    # Create a DataFrame from the test data\n",
    "    df_test = pd.DataFrame(X_test)\n",
    "\n",
    "    # Add the actual and predicted values to the DataFrame\n",
    "    df_test['Actual'] = y_test\n",
    "    df_test['Predicted'] = y_pred\n",
    "\n",
    "    # Calculate the absolute error\n",
    "    df_test['Error'] = abs(df_test['Actual'] - df_test['Predicted'])\n",
    "\n",
    "    # now inspect the rows where the error is large\n",
    "    # This will show us the top 10 instances where the model's predictions had the largest errors\n",
    "    large_errors = df_test.sort_values('Error', ascending=False).head(10)\n",
    "\n",
    "    print(large_errors)\n",
    "\n",
    "    return large_errors\n",
    "\n",
    "x = large_errors_rf(rf_model, X_test, y_test)\n",
    "\n",
    "# advertiser_id, integration_type_id and monetization_channel_id are all the same for those errors"
   ]
  },
  {
   "cell_type": "code",
   "execution_count": 26,
   "metadata": {},
   "outputs": [
    {
     "name": "stdout",
     "output_type": "stream",
     "text": [
      "Root Mean Squared Error: 869.8809332746004\n",
      "Mean Absolute Error: 219.56607098803852\n"
     ]
    }
   ],
   "source": [
    "# I will also try linear regression \n",
    "\n",
    "from sklearn.linear_model import LinearRegression\n",
    "def train_linear_regression(X_train, y_train, X_test, y_test):\n",
    "    # initialize the Linear Regression model\n",
    "    model = LinearRegression()\n",
    "\n",
    "    # train the model\n",
    "    model.fit(X_train, y_train)\n",
    "\n",
    "    # use the model to predict the test set\n",
    "    y_pred = model.predict(X_test)\n",
    "    \n",
    "    # calculate metrics\n",
    "    rmse = np.sqrt(mean_squared_error(y_test, y_pred))\n",
    "    mae = mean_absolute_error(y_test, y_pred)\n",
    "    print(f'Root Mean Squared Error: {rmse}')\n",
    "    print(f'Mean Absolute Error: {mae}')\n",
    "    \n",
    "    return model\n",
    "\n",
    "# call the function\n",
    "lr_model = train_linear_regression(X_train, y_train, X_test, y_test)\n",
    "\n",
    "# LR is evidently now the way to go"
   ]
  },
  {
   "cell_type": "code",
   "execution_count": null,
   "metadata": {},
   "outputs": [],
   "source": [
    "# I kindaa want to do some NN as well just to see how they perform for this task\n",
    "\n"
   ]
  }
 ],
 "metadata": {
  "kernelspec": {
   "display_name": "Bidding-CPM-Prediction-WEMAryu5",
   "language": "python",
   "name": "python3"
  },
  "language_info": {
   "codemirror_mode": {
    "name": "ipython",
    "version": 3
   },
   "file_extension": ".py",
   "mimetype": "text/x-python",
   "name": "python",
   "nbconvert_exporter": "python",
   "pygments_lexer": "ipython3",
   "version": "3.10.7"
  },
  "orig_nbformat": 4
 },
 "nbformat": 4,
 "nbformat_minor": 2
}
